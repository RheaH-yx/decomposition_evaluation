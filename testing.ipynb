{
 "cells": [
  {
   "cell_type": "markdown",
   "metadata": {},
   "source": [
    "# generate unitary matrices for testing"
   ]
  },
  {
   "cell_type": "code",
   "execution_count": 15,
   "metadata": {},
   "outputs": [],
   "source": [
    "import numpy as np\n",
    "\n",
    "# this function generates a list of unitary matrices of dimension 2^n\n",
    "# num specifies the number of matrices to be tested \n",
    "def generate_unitary_matrices(n, num, seed=None):\n",
    "    if seed is not None:\n",
    "        np.random.seed(seed)\n",
    "\n",
    "    dim = 2 ** n\n",
    "    unitary_matrices = []\n",
    "    for _ in range(num):\n",
    "        # Generate a random complex matrix of dimension 2^n x 2^n\n",
    "        random_matrix = np.random.randn(dim, dim) + 1j * np.random.randn(dim, dim)\n",
    "        # QR decomposition, Q is a unitary matrix\n",
    "        Q, _ = np.linalg.qr(random_matrix)\n",
    "        unitary_matrices.append(Q)\n",
    "    return unitary_matrices"
   ]
  },
  {
   "cell_type": "code",
   "execution_count": 16,
   "metadata": {},
   "outputs": [],
   "source": [
    "seed = 42\n",
    "\n",
    "array1 = generate_unitary_matrices(1, 10, seed) # a list of ten 2^1 x 2^1 unitary matrices to be evaluated\n",
    "array2 = generate_unitary_matrices(2, 10, seed)\n",
    "array3 = generate_unitary_matrices(2, 10, seed)\n",
    "array4 = generate_unitary_matrices(2, 10, seed)"
   ]
  },
  {
   "cell_type": "code",
   "execution_count": null,
   "metadata": {},
   "outputs": [],
   "source": [
    "## a list of 5 matrices\n",
    "\n",
    "# import pickle\n",
    "\n",
    "# with open('array1.pkl', 'rb') as f:\n",
    "#     array1 = pickle.load(f)\n",
    "\n",
    "# with open('array2.pkl', 'rb') as f:\n",
    "#     array2 = pickle.load(f)\n",
    "\n",
    "# with open('array3.pkl', 'rb') as f:\n",
    "#     array3 = pickle.load(f)\n",
    "\n",
    "# with open('array4.pkl', 'rb') as f:\n",
    "#     array4 = pickle.load(f)"
   ]
  },
  {
   "cell_type": "markdown",
   "metadata": {},
   "source": [
    "# Evaluation of different methods\n",
    "- Qiskit (For Qiskit decomposition, 2x2 unitary is just a U3-gate, so solovayKitaev in its library is used instead because it decomposes into basic gates like SGate, HGate, SdgGate. For larger unitaries, its module qiskit.transpile is used instead. The underlying algorithms this module used is mentioned in this post: https://quantumcomputing.stackexchange.com/questions/18157/how-efficient-is-qiskits-unitary-decomposition)\n",
    "- OpenQL\n",
    "- SQUANDER"
   ]
  },
  {
   "cell_type": "code",
   "execution_count": null,
   "metadata": {},
   "outputs": [],
   "source": [
    "# import openQLs\n",
    "import squander\n",
    "import squander_test\n",
    "import qiskit_decomposition\n",
    "import solovayKitaev"
   ]
  },
  {
   "cell_type": "code",
   "execution_count": 19,
   "metadata": {},
   "outputs": [],
   "source": [
    "import qiskit_decomposition\n",
    "import solovayKitaev"
   ]
  },
  {
   "cell_type": "markdown",
   "metadata": {},
   "source": [
    "## 1. 2x2 unitary evaluation"
   ]
  },
  {
   "cell_type": "code",
   "execution_count": 20,
   "metadata": {},
   "outputs": [
    {
     "name": "stdout",
     "output_type": "stream",
     "text": [
      "\n",
      "Original circuit:\n",
      "   ┌───────────────┐\n",
      "q: ┤ original gate ├\n",
      "   └───────────────┘\n"
     ]
    },
    {
     "ename": "NameError",
     "evalue": "name 'SdgGate' is not defined",
     "output_type": "error",
     "traceback": [
      "\u001b[1;31m---------------------------------------------------------------------------\u001b[0m",
      "\u001b[1;31mNameError\u001b[0m                                 Traceback (most recent call last)",
      "Cell \u001b[1;32mIn[20], line 6\u001b[0m\n\u001b[0;32m      1\u001b[0m result1 \u001b[38;5;241m=\u001b[39m []\n\u001b[0;32m      2\u001b[0m \u001b[38;5;28;01mfor\u001b[39;00m arr \u001b[38;5;129;01min\u001b[39;00m array1:\n\u001b[0;32m      3\u001b[0m     \u001b[38;5;66;03m# res = squander.squander_decomp(arr, 1)\u001b[39;00m\n\u001b[0;32m      4\u001b[0m     \u001b[38;5;66;03m# res = qiskit_decomposition.qiskit_decomp(arr, 1)\u001b[39;00m\n\u001b[0;32m      5\u001b[0m     \u001b[38;5;66;03m# res = openQLs.openQL_decomp(arr, 1)\u001b[39;00m\n\u001b[1;32m----> 6\u001b[0m     res \u001b[38;5;241m=\u001b[39m \u001b[43msolovayKitaev\u001b[49m\u001b[38;5;241;43m.\u001b[39;49m\u001b[43msk_decomp\u001b[49m\u001b[43m(\u001b[49m\u001b[43marr\u001b[49m\u001b[43m,\u001b[49m\u001b[43m \u001b[49m\u001b[38;5;241;43m1\u001b[39;49m\u001b[43m)\u001b[49m\n\u001b[0;32m      7\u001b[0m     \u001b[38;5;66;03m# res = squander_test.decomp(arr,1)\u001b[39;00m\n\u001b[0;32m      8\u001b[0m     result1\u001b[38;5;241m.\u001b[39mappend(res)\n",
      "File \u001b[1;32mz:\\home\\rhea_huang\\research\\decomposition_evaluation\\solovayKitaev.py:38\u001b[0m, in \u001b[0;36msk_decomp\u001b[1;34m(arr, qubit)\u001b[0m\n\u001b[0;32m     35\u001b[0m \u001b[38;5;28mprint\u001b[39m(\u001b[38;5;124m\"\u001b[39m\u001b[38;5;130;01m\\n\u001b[39;00m\u001b[38;5;124mOriginal circuit:\u001b[39m\u001b[38;5;124m\"\u001b[39m)\n\u001b[0;32m     36\u001b[0m \u001b[38;5;28mprint\u001b[39m(qc\u001b[38;5;241m.\u001b[39mdraw())\n\u001b[1;32m---> 38\u001b[0m basic_approximations \u001b[38;5;241m=\u001b[39m generate_basic_approximations(basis_gates\u001b[38;5;241m=\u001b[39m[HGate(), SGate(), TGate(), ZGate(), TdgGate(), \u001b[43mSdgGate\u001b[49m(), XGate(), YGate()], depth\u001b[38;5;241m=\u001b[39m\u001b[38;5;241m10\u001b[39m)\n\u001b[0;32m     39\u001b[0m skd \u001b[38;5;241m=\u001b[39m SolovayKitaev(recursion_degree\u001b[38;5;241m=\u001b[39m\u001b[38;5;241m5\u001b[39m, basic_approximations \u001b[38;5;241m=\u001b[39m basic_approximations)\n\u001b[0;32m     40\u001b[0m start_time \u001b[38;5;241m=\u001b[39m time\u001b[38;5;241m.\u001b[39mtime()\n",
      "\u001b[1;31mNameError\u001b[0m: name 'SdgGate' is not defined"
     ]
    }
   ],
   "source": [
    "result1 = []\n",
    "for arr in array1:\n",
    "    # res = squander.squander_decomp(arr, 1)\n",
    "    # res = qiskit_decomposition.qiskit_decomp(arr, 1)\n",
    "    # res = openQLs.openQL_decomp(arr, 1)\n",
    "    res = solovayKitaev.sk_decomp(arr, 1)\n",
    "    # res = squander_test.decomp(arr,1)\n",
    "    result1.append(res)\n",
    "\n",
    "print(result1)"
   ]
  }
 ],
 "metadata": {
  "kernelspec": {
   "display_name": "Python 3",
   "language": "python",
   "name": "python3"
  },
  "language_info": {
   "codemirror_mode": {
    "name": "ipython",
    "version": 3
   },
   "file_extension": ".py",
   "mimetype": "text/x-python",
   "name": "python",
   "nbconvert_exporter": "python",
   "pygments_lexer": "ipython3",
   "version": "3.10.5"
  }
 },
 "nbformat": 4,
 "nbformat_minor": 2
}
